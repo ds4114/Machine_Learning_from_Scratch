{
 "cells": [
  {
   "cell_type": "code",
   "execution_count": 117,
   "id": "56599342",
   "metadata": {},
   "outputs": [],
   "source": [
    "import pandas as pd\n",
    "import numpy as np\n",
    "from scipy.stats import poisson\n",
    "import matplotlib.pyplot as plt"
   ]
  },
  {
   "cell_type": "code",
   "execution_count": 118,
   "id": "d2964774",
   "metadata": {},
   "outputs": [],
   "source": [
    "X_raw = pd.read_csv(r'S:\\Columbia MS DS\\Courses\\Semester_02\\03 - COMS_4721 - ML for DS\\HW 2\\hw2-data\\Bayes_classifier\\X.csv'\n",
    "                          ,header=None\n",
    "                          ,names=[i for i in range(1,55)]\n",
    "                        )\n",
    "Y_raw = pd.read_csv(r'S:\\Columbia MS DS\\Courses\\Semester_02\\03 - COMS_4721 - ML for DS\\HW 2\\hw2-data\\Bayes_classifier\\Y.csv'\n",
    "                          ,header=None\n",
    "                          ,names=['spam']\n",
    "                        )"
   ]
  },
  {
   "cell_type": "code",
   "execution_count": 245,
   "id": "be1ed572",
   "metadata": {},
   "outputs": [
    {
     "data": {
      "text/html": [
       "<div>\n",
       "<style scoped>\n",
       "    .dataframe tbody tr th:only-of-type {\n",
       "        vertical-align: middle;\n",
       "    }\n",
       "\n",
       "    .dataframe tbody tr th {\n",
       "        vertical-align: top;\n",
       "    }\n",
       "\n",
       "    .dataframe thead th {\n",
       "        text-align: right;\n",
       "    }\n",
       "</style>\n",
       "<table border=\"1\" class=\"dataframe\">\n",
       "  <thead>\n",
       "    <tr style=\"text-align: right;\">\n",
       "      <th></th>\n",
       "      <th>1</th>\n",
       "      <th>2</th>\n",
       "      <th>3</th>\n",
       "      <th>4</th>\n",
       "      <th>5</th>\n",
       "      <th>6</th>\n",
       "      <th>7</th>\n",
       "      <th>8</th>\n",
       "      <th>9</th>\n",
       "      <th>10</th>\n",
       "      <th>...</th>\n",
       "      <th>45</th>\n",
       "      <th>46</th>\n",
       "      <th>47</th>\n",
       "      <th>48</th>\n",
       "      <th>49</th>\n",
       "      <th>50</th>\n",
       "      <th>51</th>\n",
       "      <th>52</th>\n",
       "      <th>53</th>\n",
       "      <th>54</th>\n",
       "    </tr>\n",
       "  </thead>\n",
       "  <tbody>\n",
       "    <tr>\n",
       "      <th>0</th>\n",
       "      <td>0</td>\n",
       "      <td>6</td>\n",
       "      <td>6</td>\n",
       "      <td>0</td>\n",
       "      <td>3</td>\n",
       "      <td>0</td>\n",
       "      <td>0</td>\n",
       "      <td>0</td>\n",
       "      <td>0</td>\n",
       "      <td>0</td>\n",
       "      <td>...</td>\n",
       "      <td>0</td>\n",
       "      <td>0</td>\n",
       "      <td>0</td>\n",
       "      <td>0</td>\n",
       "      <td>0</td>\n",
       "      <td>0</td>\n",
       "      <td>0</td>\n",
       "      <td>8</td>\n",
       "      <td>0</td>\n",
       "      <td>0</td>\n",
       "    </tr>\n",
       "    <tr>\n",
       "      <th>1</th>\n",
       "      <td>2</td>\n",
       "      <td>3</td>\n",
       "      <td>5</td>\n",
       "      <td>0</td>\n",
       "      <td>1</td>\n",
       "      <td>3</td>\n",
       "      <td>2</td>\n",
       "      <td>1</td>\n",
       "      <td>0</td>\n",
       "      <td>9</td>\n",
       "      <td>...</td>\n",
       "      <td>0</td>\n",
       "      <td>0</td>\n",
       "      <td>0</td>\n",
       "      <td>0</td>\n",
       "      <td>0</td>\n",
       "      <td>1</td>\n",
       "      <td>0</td>\n",
       "      <td>4</td>\n",
       "      <td>2</td>\n",
       "      <td>0</td>\n",
       "    </tr>\n",
       "    <tr>\n",
       "      <th>2</th>\n",
       "      <td>1</td>\n",
       "      <td>0</td>\n",
       "      <td>7</td>\n",
       "      <td>0</td>\n",
       "      <td>12</td>\n",
       "      <td>2</td>\n",
       "      <td>2</td>\n",
       "      <td>1</td>\n",
       "      <td>6</td>\n",
       "      <td>3</td>\n",
       "      <td>...</td>\n",
       "      <td>1</td>\n",
       "      <td>1</td>\n",
       "      <td>0</td>\n",
       "      <td>0</td>\n",
       "      <td>0</td>\n",
       "      <td>1</td>\n",
       "      <td>0</td>\n",
       "      <td>3</td>\n",
       "      <td>2</td>\n",
       "      <td>0</td>\n",
       "    </tr>\n",
       "  </tbody>\n",
       "</table>\n",
       "<p>3 rows × 54 columns</p>\n",
       "</div>"
      ],
      "text/plain": [
       "   1   2   3   4   5   6   7   8   9   10  ...  45  46  47  48  49  50  51  \\\n",
       "0   0   6   6   0   3   0   0   0   0   0  ...   0   0   0   0   0   0   0   \n",
       "1   2   3   5   0   1   3   2   1   0   9  ...   0   0   0   0   0   1   0   \n",
       "2   1   0   7   0  12   2   2   1   6   3  ...   1   1   0   0   0   1   0   \n",
       "\n",
       "   52  53  54  \n",
       "0   8   0   0  \n",
       "1   4   2   0  \n",
       "2   3   2   0  \n",
       "\n",
       "[3 rows x 54 columns]"
      ]
     },
     "execution_count": 245,
     "metadata": {},
     "output_type": "execute_result"
    }
   ],
   "source": [
    "X_raw.head(3)\n",
    "#Y_raw.head(3)"
   ]
  },
  {
   "cell_type": "code",
   "execution_count": 160,
   "id": "5ad0e648",
   "metadata": {},
   "outputs": [],
   "source": [
    "#split data\n",
    "permuted_indices = np.random.permutation(len(X_raw))\n",
    "#print(permuted_indices)\n",
    "\n",
    "X_folds = []\n",
    "Y_folds = []\n",
    "for i in range(10):\n",
    "    X_folds.append(X_raw.iloc[permuted_indices[i::10]])\n",
    "    Y_folds.append(Y_raw.iloc[permuted_indices[i::10]])\n",
    "#dfs[0].shape\n",
    "#Y_folds"
   ]
  },
  {
   "cell_type": "markdown",
   "id": "d8a8cfdc",
   "metadata": {},
   "source": [
    "## Logistic Regression"
   ]
  },
  {
   "cell_type": "code",
   "execution_count": 161,
   "id": "46a4c64e",
   "metadata": {},
   "outputs": [],
   "source": [
    "#remake folds using same index shuffle from naive bayes\n",
    "heldout = 1\n",
    "X_train = pd.concat([X_folds[i] for i in range(0,10) if i != heldout])\n",
    "X_train['intercept'] = pd.Series(np.ones(X_train.shape[0]), index=X_train.index)\n",
    "y_train = pd.concat([Y_folds[i] for i in range(0,10) if i != heldout])\n",
    "y_train.loc[(y_train.spam==0),'spam'] = -1\n",
    "X_test = pd.concat([X_folds[heldout]])\n",
    "X_test['intercept'] = pd.Series(np.ones(X_test.shape[0]), index=X_test.index)\n",
    "y_test = pd.concat([Y_folds[heldout]])\n",
    "y_test.loc[(y_test.spam==0),'spam'] = -1"
   ]
  },
  {
   "cell_type": "code",
   "execution_count": 171,
   "id": "6d652001",
   "metadata": {},
   "outputs": [
    {
     "name": "stdout",
     "output_type": "stream",
     "text": [
      "CPU times: total: 53min\n",
      "Wall time: 1h 12s\n"
     ]
    }
   ],
   "source": [
    "%%time\n",
    "\n",
    "loss_CV = []  #will have array with each value an arry of losses per iteration\n",
    "\n",
    "for h in range(0,10):\n",
    "    heldout = h\n",
    "    X_train = pd.concat([X_folds[i] for i in range(0,10) if i != heldout])\n",
    "    X_train['intercept'] = pd.Series(np.ones(X_train.shape[0]), index=X_train.index)\n",
    "    y_train = pd.concat([Y_folds[i] for i in range(0,10) if i != heldout])\n",
    "    y_train.loc[(y_train.spam==0),'spam'] = -1\n",
    "    X_test = pd.concat([X_folds[heldout]])\n",
    "    X_test['intercept'] = pd.Series(np.ones(X_test.shape[0]), index=X_test.index)\n",
    "    y_test = pd.concat([Y_folds[heldout]])\n",
    "    y_test.loc[(y_test.spam==0),'spam'] = -1\n",
    "    \n",
    "    X_train = X_train.to_numpy()\n",
    "    y_train = y_train.to_numpy()\n",
    "\n",
    "    stepsize = 0.01/4600\n",
    "    weights = pd.Series([0.0] * 55) #includes intercept *at end* position\n",
    "    weight_array = []\n",
    "    weight_array.append(weights)\n",
    "    loss_array = []\n",
    "    n = X_train.shape[0]   #n = 20  #for testing\n",
    "    t = 1000 #iterations\n",
    "\n",
    "    for t in range(1,t+1):\n",
    "        grad = pd.Series([0.0] * 55)\n",
    "        loss = 0\n",
    "        for i in range(0,n):\n",
    "            #yi = y_train.iloc[i].item()\n",
    "            #xi = X_train.iloc[i]\n",
    "            yi = y_train[i].item()\n",
    "            xi = X_train[i]\n",
    "            expVal = np.dot(yi*xi,weights).item()\n",
    "            sig = np.exp(expVal)/(1+np.exp(expVal))\n",
    "            loss = loss + np.log(sig)\n",
    "            grad = grad + np.dot((1-sig)*yi,xi) \n",
    "        #print('asdf')\n",
    "        weights = weights + stepsize * grad     \n",
    "        weight_array.append(weights)\n",
    "        loss_array.append(loss)\n",
    "    \n",
    "    loss_CV.append(loss_array)\n",
    "    #40 mins for 1000 iterations, 1 batch. 1.2 seconds per n loop ()"
   ]
  },
  {
   "cell_type": "code",
   "execution_count": 172,
   "id": "43d79628",
   "metadata": {},
   "outputs": [
    {
     "data": {
      "text/plain": [
       "-928.897918510298"
      ]
     },
     "execution_count": 172,
     "metadata": {},
     "output_type": "execute_result"
    }
   ],
   "source": [
    "loss_array[1000-1] #-926.7962"
   ]
  },
  {
   "cell_type": "code",
   "execution_count": 176,
   "id": "108158ec",
   "metadata": {},
   "outputs": [
    {
     "data": {
      "image/png": "[encoded data removed]",
      "text/plain": [
       "<Figure size 864x432 with 1 Axes>"
      ]
     },
     "metadata": {
      "needs_background": "light"
     },
     "output_type": "display_data"
    }
   ],
   "source": [
    "#plotting loss for each CV\n",
    "logr_loss_df = pd.DataFrame(loss_CV, columns=[i for i in range(1,len(loss_CV[0])+1)])\n",
    "ax = logr_loss_df.T.plot(figsize=(12, 6))\n",
    "ax.set_ylabel('Loss')\n",
    "ax.set_xlabel('Iteration')\n",
    "plt.xticks(np.arange(0, 1001, 100))    #number of iterations\n",
    "plt.legend(title='KFold')\n",
    "ax.set_title('Logistic Regression Loss')\n",
    "plt.show()"
   ]
  },
  {
   "cell_type": "markdown",
   "id": "3b718d2c",
   "metadata": {},
   "source": [
    "### Newtons"
   ]
  },
  {
   "cell_type": "code",
   "execution_count": 177,
   "id": "7e7113c7",
   "metadata": {},
   "outputs": [
    {
     "name": "stderr",
     "output_type": "stream",
     "text": [
      "<timed exec>:31: RuntimeWarning: overflow encountered in exp\n",
      "<timed exec>:31: RuntimeWarning: invalid value encountered in double_scalars\n",
      "<timed exec>:40: RuntimeWarning: overflow encountered in exp\n",
      "<timed exec>:40: RuntimeWarning: invalid value encountered in double_scalars\n"
     ]
    },
    {
     "name": "stdout",
     "output_type": "stream",
     "text": [
      "CPU times: total: 25min 40s\n",
      "Wall time: 31min 44s\n"
     ]
    }
   ],
   "source": [
    "%%time\n",
    "\n",
    "loss_CV_newton = [] \n",
    "weight_CV_newton = []\n",
    "\n",
    "for h in range(0,10):\n",
    "    heldout = h\n",
    "    X_train = pd.concat([X_folds[i] for i in range(0,10) if i != heldout])\n",
    "    X_train['intercept'] = pd.Series(np.ones(X_train.shape[0]), index=X_train.index)\n",
    "    y_train = pd.concat([Y_folds[i] for i in range(0,10) if i != heldout])\n",
    "    y_train.loc[(y_train.spam==0),'spam'] = -1\n",
    "    X_test = pd.concat([X_folds[heldout]])\n",
    "    X_test['intercept'] = pd.Series(np.ones(X_test.shape[0]), index=X_test.index)\n",
    "    y_test = pd.concat([Y_folds[heldout]])\n",
    "    y_test.loc[(y_test.spam==0),'spam'] = -1\n",
    "\n",
    "    stepsize = 1 #0.01/4600\n",
    "    weights = pd.Series([0.0] * 55) #includes intercept *at end* position\n",
    "    weight_array_newton = []\n",
    "    weight_array_newton.append(weights)\n",
    "    loss_array_newton = []\n",
    "    n = X_train.shape[0]   #n = 20  #for testing\n",
    "    t = 100 #iterations\n",
    "\n",
    "    for t in range(1,t+1):\n",
    "        grad = pd.Series([0.0] * 55)\n",
    "        hessian = np.zeros((len(weights), len(weights)))\n",
    "        loss = 0\n",
    "        for i in range(0, X_train.shape[0]):\n",
    "            yi = y_train.iloc[i].item()\n",
    "            xi = X_train.iloc[i]\n",
    "            expVal = np.dot(yi*xi,weights)\n",
    "            sig = np.exp(expVal)/(1+np.exp(expVal))\n",
    "            grad = grad + np.dot((1-sig)*yi,xi)\n",
    "            \n",
    "            loss = loss + np.log(sig)\n",
    "            \n",
    "            #expVal2 = np.dot(xi, weights)\n",
    "            #sig2 =  np.exp(expVal2)/(1+np.exp(expVal2))\n",
    "            #hessian += sig2 * (1 - sig2) * np.outer(xi, xi)\n",
    "            expVal2 = expVal\n",
    "            sig2 = np.exp(expVal2)/(1+np.exp(expVal2))\n",
    "            hessian += sig2 * (1 - sig2) * np.outer(xi, xi.T)\n",
    "            \n",
    "            \n",
    "        sq_inv = np.linalg.inv(-hessian) \n",
    "        \n",
    "        weights = weights - (stepsize * np.dot(sq_inv, grad)) #step size = 1?\n",
    "        \n",
    "        weight_array_newton.append(weights)\n",
    "        loss_array_newton.append(loss)\n",
    "        \n",
    "    loss_CV_newton.append(loss_array_newton)\n",
    "    weight_CV_newton.append(weights)"
   ]
  },
  {
   "cell_type": "code",
   "execution_count": 178,
   "id": "fe3cfd1a",
   "metadata": {},
   "outputs": [
    {
     "data": {
      "image/png": "[encoded data removed]",
      "text/plain": [
       "<Figure size 864x432 with 1 Axes>"
      ]
     },
     "metadata": {
      "needs_background": "light"
     },
     "output_type": "display_data"
    }
   ],
   "source": [
    "#graphing\n",
    "logr_loss_df = pd.DataFrame(loss_CV_newton, columns=[i for i in range(1,len(loss_CV_newton[0])+1)])\n",
    "ax = logr_loss_df.T.plot(figsize=(12, 6))\n",
    "ax.set_ylabel('Loss')\n",
    "ax.set_xlabel('Iteration')\n",
    "plt.xticks(np.arange(0, 101, 10))    #number of iterations\n",
    "plt.legend(title='KFold')\n",
    "ax.set_title('Logistic Regression Loss (Newton)')\n",
    "plt.show()"
   ]
  },
  {
   "cell_type": "code",
   "execution_count": 115,
   "id": "c1ec2208",
   "metadata": {},
   "outputs": [],
   "source": [
    "#predictions\n",
    "def predict_newton(X_test_df, weights):\n",
    "    expVal = np.dot(X_test_df, weights)\n",
    "    output_prob = np.exp(expVal)/(1+np.exp(expVal))\n",
    "    if output_prob > 0.5:\n",
    "        return 1 \n",
    "    else:\n",
    "        return -1"
   ]
  },
  {
   "cell_type": "code",
   "execution_count": 108,
   "id": "0b0da4f3",
   "metadata": {},
   "outputs": [
    {
     "data": {
      "text/plain": [
       "0"
      ]
     },
     "execution_count": 108,
     "metadata": {},
     "output_type": "execute_result"
    }
   ],
   "source": [
    "#weight_CV_newton[1]\n",
    "#newton_avg_w = pd.DataFrame(weight_CV_newton).mean()\n",
    "#predict_newton(X_test.iloc[100], newton_avg_w)"
   ]
  },
  {
   "cell_type": "code",
   "execution_count": 179,
   "id": "3af4a657",
   "metadata": {},
   "outputs": [
    {
     "name": "stdout",
     "output_type": "stream",
     "text": [
      "      True                          False         \n",
      " True Positive: 1428 --- False Positive: 124\n",
      "False Negative: 385 ---  True Negative: 2663\n",
      "Prediction Accuracy: 0.889\n"
     ]
    }
   ],
   "source": [
    "#newton_avg_w = pd.DataFrame(weight_CV_newton).mean()\n",
    "\n",
    "T_That = 0\n",
    "T_Fhat = 0\n",
    "F_That = 0\n",
    "F_Fhat = 0\n",
    "\n",
    "for h in range(0,10):\n",
    "    heldout = h\n",
    "    X_test = pd.concat([X_folds[heldout]])\n",
    "    X_test['intercept'] = pd.Series(np.ones(X_test.shape[0]), index=X_test.index)\n",
    "    y_test = pd.concat([Y_folds[heldout]])\n",
    "    y_test.loc[(y_test.spam==0),'spam'] = -1\n",
    "    \n",
    "    newton_weight = weight_CV_newton[h]\n",
    "    for x in range(0,X_test.shape[0]):\n",
    "            y_hat = predict_newton(X_test.iloc[x], newton_weight)\n",
    "            y_true = y_test.iloc[x].item()\n",
    "            #print(f'True Y:{y_true} ----  Predict Y:{y_hat}')\n",
    "            if(y_true == y_hat and y_true == 1):\n",
    "                T_That += 1\n",
    "            elif(y_true == y_hat and y_true == -1):\n",
    "                F_Fhat += 1\n",
    "            elif(y_true != y_hat and y_true == 1):\n",
    "                T_Fhat += 1\n",
    "            elif(y_true != y_hat and y_true == -1):\n",
    "                F_That += 1\n",
    "\n",
    "#print aggregate summary\n",
    "print('      True                          False         ')\n",
    "print(f' True Positive: {T_That} --- False Positive: {F_That}') #predicted true\n",
    "print(f'False Negative: {T_Fhat} ---  True Negative: {F_Fhat}') #predicted false\n",
    "print(f'Prediction Accuracy: {(T_That+F_Fhat)/(T_That+F_That+T_Fhat+F_Fhat):0.3}')\n",
    "    "
   ]
  },
  {
   "cell_type": "code",
   "execution_count": null,
   "id": "71d871c0",
   "metadata": {},
   "outputs": [],
   "source": []
  }
 ],
 "metadata": {
  "kernelspec": {
   "display_name": "Python 3 (ipykernel)",
   "language": "python",
   "name": "python3"
  },
  "language_info": {
   "codemirror_mode": {
    "name": "ipython",
    "version": 3
   },
   "file_extension": ".py",
   "mimetype": "text/x-python",
   "name": "python",
   "nbconvert_exporter": "python",
   "pygments_lexer": "ipython3",
   "version": "3.9.12"
  }
 },
 "nbformat": 4,
 "nbformat_minor": 5
}
