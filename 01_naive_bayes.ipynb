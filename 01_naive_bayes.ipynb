{
 "cells": [
  {
   "cell_type": "code",
   "execution_count": 117,
   "id": "56599342",
   "metadata": {},
   "outputs": [],
   "source": [
    "import pandas as pd\n",
    "import numpy as np\n",
    "from scipy.stats import poisson\n",
    "import matplotlib.pyplot as plt"
   ]
  },
  {
   "cell_type": "code",
   "execution_count": 118,
   "id": "d2964774",
   "metadata": {},
   "outputs": [],
   "source": [
    "X_raw = pd.read_csv(r'S:\\Columbia MS DS\\Courses\\Semester_02\\03 - COMS_4721 - ML for DS\\HW 2\\hw2-data\\Bayes_classifier\\X.csv'\n",
    "                          ,header=None\n",
    "                          ,names=[i for i in range(1,55)]\n",
    "                        )\n",
    "Y_raw = pd.read_csv(r'S:\\Columbia MS DS\\Courses\\Semester_02\\03 - COMS_4721 - ML for DS\\HW 2\\hw2-data\\Bayes_classifier\\Y.csv'\n",
    "                          ,header=None\n",
    "                          ,names=['spam']\n",
    "                        )"
   ]
  },
  {
   "cell_type": "code",
   "execution_count": 245,
   "id": "be1ed572",
   "metadata": {},
   "outputs": [
    {
     "data": {
      "text/html": [
       "<div>\n",
       "<style scoped>\n",
       "    .dataframe tbody tr th:only-of-type {\n",
       "        vertical-align: middle;\n",
       "    }\n",
       "\n",
       "    .dataframe tbody tr th {\n",
       "        vertical-align: top;\n",
       "    }\n",
       "\n",
       "    .dataframe thead th {\n",
       "        text-align: right;\n",
       "    }\n",
       "</style>\n",
       "<table border=\"1\" class=\"dataframe\">\n",
       "  <thead>\n",
       "    <tr style=\"text-align: right;\">\n",
       "      <th></th>\n",
       "      <th>1</th>\n",
       "      <th>2</th>\n",
       "      <th>3</th>\n",
       "      <th>4</th>\n",
       "      <th>5</th>\n",
       "      <th>6</th>\n",
       "      <th>7</th>\n",
       "      <th>8</th>\n",
       "      <th>9</th>\n",
       "      <th>10</th>\n",
       "      <th>...</th>\n",
       "      <th>45</th>\n",
       "      <th>46</th>\n",
       "      <th>47</th>\n",
       "      <th>48</th>\n",
       "      <th>49</th>\n",
       "      <th>50</th>\n",
       "      <th>51</th>\n",
       "      <th>52</th>\n",
       "      <th>53</th>\n",
       "      <th>54</th>\n",
       "    </tr>\n",
       "  </thead>\n",
       "  <tbody>\n",
       "    <tr>\n",
       "      <th>0</th>\n",
       "      <td>0</td>\n",
       "      <td>6</td>\n",
       "      <td>6</td>\n",
       "      <td>0</td>\n",
       "      <td>3</td>\n",
       "      <td>0</td>\n",
       "      <td>0</td>\n",
       "      <td>0</td>\n",
       "      <td>0</td>\n",
       "      <td>0</td>\n",
       "      <td>...</td>\n",
       "      <td>0</td>\n",
       "      <td>0</td>\n",
       "      <td>0</td>\n",
       "      <td>0</td>\n",
       "      <td>0</td>\n",
       "      <td>0</td>\n",
       "      <td>0</td>\n",
       "      <td>8</td>\n",
       "      <td>0</td>\n",
       "      <td>0</td>\n",
       "    </tr>\n",
       "    <tr>\n",
       "      <th>1</th>\n",
       "      <td>2</td>\n",
       "      <td>3</td>\n",
       "      <td>5</td>\n",
       "      <td>0</td>\n",
       "      <td>1</td>\n",
       "      <td>3</td>\n",
       "      <td>2</td>\n",
       "      <td>1</td>\n",
       "      <td>0</td>\n",
       "      <td>9</td>\n",
       "      <td>...</td>\n",
       "      <td>0</td>\n",
       "      <td>0</td>\n",
       "      <td>0</td>\n",
       "      <td>0</td>\n",
       "      <td>0</td>\n",
       "      <td>1</td>\n",
       "      <td>0</td>\n",
       "      <td>4</td>\n",
       "      <td>2</td>\n",
       "      <td>0</td>\n",
       "    </tr>\n",
       "    <tr>\n",
       "      <th>2</th>\n",
       "      <td>1</td>\n",
       "      <td>0</td>\n",
       "      <td>7</td>\n",
       "      <td>0</td>\n",
       "      <td>12</td>\n",
       "      <td>2</td>\n",
       "      <td>2</td>\n",
       "      <td>1</td>\n",
       "      <td>6</td>\n",
       "      <td>3</td>\n",
       "      <td>...</td>\n",
       "      <td>1</td>\n",
       "      <td>1</td>\n",
       "      <td>0</td>\n",
       "      <td>0</td>\n",
       "      <td>0</td>\n",
       "      <td>1</td>\n",
       "      <td>0</td>\n",
       "      <td>3</td>\n",
       "      <td>2</td>\n",
       "      <td>0</td>\n",
       "    </tr>\n",
       "  </tbody>\n",
       "</table>\n",
       "<p>3 rows × 54 columns</p>\n",
       "</div>"
      ],
      "text/plain": [
       "   1   2   3   4   5   6   7   8   9   10  ...  45  46  47  48  49  50  51  \\\n",
       "0   0   6   6   0   3   0   0   0   0   0  ...   0   0   0   0   0   0   0   \n",
       "1   2   3   5   0   1   3   2   1   0   9  ...   0   0   0   0   0   1   0   \n",
       "2   1   0   7   0  12   2   2   1   6   3  ...   1   1   0   0   0   1   0   \n",
       "\n",
       "   52  53  54  \n",
       "0   8   0   0  \n",
       "1   4   2   0  \n",
       "2   3   2   0  \n",
       "\n",
       "[3 rows x 54 columns]"
      ]
     },
     "execution_count": 245,
     "metadata": {},
     "output_type": "execute_result"
    }
   ],
   "source": [
    "X_raw.head(3)\n",
    "#Y_raw.head(3)"
   ]
  },
  {
   "cell_type": "markdown",
   "id": "4504ed80",
   "metadata": {},
   "source": [
    "## Naive Bayes"
   ]
  },
  {
   "cell_type": "code",
   "execution_count": 119,
   "id": "8f48416c",
   "metadata": {},
   "outputs": [],
   "source": [
    "def MLE_finder(dfX, dfY):\n",
    "    pi_hat = dfY.sum()/dfY.shape[0]\n",
    "    total_notspam = (dfY.shape[0] - dfY.sum()).item()\n",
    "    total_spam = dfY.sum().item()\n",
    "    \n",
    "    #print(pi_hat)\n",
    "    #print(f'not spam:{(total_notspam)}')\n",
    "    \n",
    "    lambda_hat_0d_arr = (dfX.where(dfY.spam==0).sum()+1)/(total_notspam + 1)  #including 1 for gamma prior\n",
    "    lambda_hat_1d_arr = (dfX.where(dfY.spam==1).sum()+1)/(total_spam + 1)\n",
    "    \n",
    "    return pi_hat, lambda_hat_0d_arr, lambda_hat_1d_arr"
   ]
  },
  {
   "cell_type": "code",
   "execution_count": 120,
   "id": "9724269b",
   "metadata": {},
   "outputs": [],
   "source": [
    "#predict funciton takes MLEs and finds which is more likely\n",
    "def predict_from_MLE(dfXSeries, p, l0, l1):\n",
    "    probY0 = 1.0\n",
    "    probY1 = 1.0\n",
    "    LNprobY0 = 0\n",
    "    LNprobY1 = 0\n",
    "    for d in range(1,dfXSeries.shape[0]+1):\n",
    "        k = dfXSeries[d].item()\n",
    "        probY0 = probY0 * poisson.pmf(k, l0[d])\n",
    "        probY1 = probY1 * poisson.pmf(k, l1[d])\n",
    "        #LNprobY0 = LNprobY0 + np.log(poisson.pmf(k, l0[d]))\n",
    "        #LNprobY1 = LNprobY1 + np.log(poisson.pmf(k, l1[d]))\n",
    "        #print(f'K:{k} -- LNProb0:{LNprobY0:0.3} -- LNProb0:{LNprobY1:0.3}')\n",
    "        \n",
    "    probY0 = (1-p)*probY0\n",
    "    probY1 = (p)*probY1\n",
    "    #LNprobY0 = np.log(1-p) + LNprobY0\n",
    "    #LNprobY1 = np.log(p) + LNprobY1\n",
    "\n",
    "    #print(probY0)\n",
    "    #print(probY1)\n",
    "    #print(LNprobY0)\n",
    "    #print(LNprobY1)\n",
    "    if probY0.item() >= probY1.item():\n",
    "    #if LNprobY0.item() >= LNprobY1.item():\n",
    "        return 0\n",
    "    else:\n",
    "        return 1"
   ]
  },
  {
   "cell_type": "code",
   "execution_count": 160,
   "id": "5ad0e648",
   "metadata": {},
   "outputs": [],
   "source": [
    "#split data\n",
    "permuted_indices = np.random.permutation(len(X_raw))\n",
    "#print(permuted_indices)\n",
    "\n",
    "X_folds = []\n",
    "Y_folds = []\n",
    "for i in range(10):\n",
    "    X_folds.append(X_raw.iloc[permuted_indices[i::10]])\n",
    "    Y_folds.append(Y_raw.iloc[permuted_indices[i::10]])\n",
    "#dfs[0].shape\n",
    "#Y_folds"
   ]
  },
  {
   "cell_type": "code",
   "execution_count": 180,
   "id": "1ba11567",
   "metadata": {},
   "outputs": [
    {
     "name": "stdout",
     "output_type": "stream",
     "text": [
      "      True                          False         \n",
      " True Positive: 1704 --- False Positive: 491\n",
      "False Negative: 109 ---  True Negative: 2296\n",
      "Prediction Accuracy: 0.87\n",
      "CPU times: total: 39.6 s\n",
      "Wall time: 45.8 s\n"
     ]
    }
   ],
   "source": [
    "%%time\n",
    "T_That = 0\n",
    "T_Fhat = 0\n",
    "F_That = 0\n",
    "F_Fhat = 0\n",
    "lambda0_params = []\n",
    "lambda1_params = []\n",
    "\n",
    "for h in range(0,10):\n",
    "    #reconstruct data from randomized split\n",
    "    heldout = h\n",
    "    X_train = pd.concat([X_folds[i] for i in range(0,10) if i != heldout])\n",
    "    y_train = pd.concat([Y_folds[i] for i in range(0,10) if i != heldout])\n",
    "    X_test = pd.concat([X_folds[heldout]])\n",
    "    y_test = pd.concat([Y_folds[heldout]])\n",
    "\n",
    "    #get parameters\n",
    "    pi, lambda_0d_arr, lambda_1d_arr = MLE_finder(X_train,y_train)\n",
    "    lambda0_params.append(lambda_0d_arr)\n",
    "    lambda1_params.append(lambda_1d_arr)\n",
    "\n",
    "    #predict on test\n",
    "    for x in range(0,X_test.shape[0]):\n",
    "        y_hat = predict_from_MLE(X_test.iloc[x,:], pi, lambda_0d_arr, lambda_1d_arr)\n",
    "        y_true = y_test.iloc[x].item()\n",
    "        #print(f'True Y:{y_true} ----  Predict Y:{y_hat}')\n",
    "        if(y_true == y_hat and y_true == 1):\n",
    "            T_That += 1\n",
    "        elif(y_true == y_hat and y_true == 0):\n",
    "            F_Fhat += 1\n",
    "        elif(y_true != y_hat and y_true == 1):\n",
    "            T_Fhat += 1\n",
    "        elif(y_true != y_hat and y_true == 0):\n",
    "            F_That += 1\n",
    "\n",
    "#print aggregate summary\n",
    "print('      True                          False         ')\n",
    "print(f' True Positive: {T_That} --- False Positive: {F_That}') #predicted true\n",
    "print(f'False Negative: {T_Fhat} ---  True Negative: {F_Fhat}') #predicted false\n",
    "print(f'Prediction Accuracy: {(T_That+F_Fhat)/(T_That+F_That+T_Fhat+F_Fhat):0.3}')"
   ]
  },
  {
   "cell_type": "code",
   "execution_count": 192,
   "id": "4f5dc404",
   "metadata": {},
   "outputs": [
    {
     "name": "stderr",
     "output_type": "stream",
     "text": [
      "C:\\Users\\Devan\\AppData\\Local\\Temp\\ipykernel_15176\\2879199318.py:3: MatplotlibDeprecationWarning: Passing the linefmt parameter positionally is deprecated since Matplotlib 3.5; the parameter will become keyword-only two minor releases later.\n",
      "  markerline1, stemlines, _ = plt.stem(x1, pd.DataFrame(lambda0_params).mean(), '-.')\n",
      "C:\\Users\\Devan\\AppData\\Local\\Temp\\ipykernel_15176\\2879199318.py:5: MatplotlibDeprecationWarning: Passing the linefmt parameter positionally is deprecated since Matplotlib 3.5; the parameter will become keyword-only two minor releases later.\n",
      "  markerline2, stemlines, _ = plt.stem(x1, pd.DataFrame(lambda1_params).mean() , '-.')\n",
      "No artists with labels found to put in legend.  Note that artists whose label start with an underscore are ignored when legend() is called with no argument.\n"
     ]
    },
    {
     "data": {
      "image/png": "[encoded data removed]",
      "text/plain": [
       "<Figure size 864x432 with 1 Axes>"
      ]
     },
     "metadata": {
      "needs_background": "light"
     },
     "output_type": "display_data"
    }
   ],
   "source": [
    "x1 = list(range(1, 55))\n",
    "figure, axis = plt.subplots(1, 1, figsize=(12,6))\n",
    "markerline1, stemlines, _ = plt.stem(x1, pd.DataFrame(lambda0_params).mean(), '-.')\n",
    "plt.setp(markerline1, 'markerfacecolor', 'b')\n",
    "markerline2, stemlines, _ = plt.stem(x1, pd.DataFrame(lambda1_params).mean() , '-.')\n",
    "plt.setp(markerline2, 'markerfacecolor', 'r')\n",
    "plt.legend(title='Legend \\n Blue=Y0 \\n Red=Y1')\n",
    "plt.show()"
   ]
  },
  {
   "cell_type": "code",
   "execution_count": 181,
   "id": "fabe0bf8",
   "metadata": {},
   "outputs": [
    {
     "data": {
      "image/png": "[encoded data removed]",
      "text/plain": [
       "<Figure size 720x576 with 2 Axes>"
      ]
     },
     "metadata": {
      "needs_background": "light"
     },
     "output_type": "display_data"
    }
   ],
   "source": [
    "figure, axis = plt.subplots(2, 1, figsize=(10,8))\n",
    "axis[0].stem( range(1,55), pd.DataFrame(lambda0_params).mean() )\n",
    "axis[0].set_title(\"Mean Lambda for Y=0\")\n",
    "axis[1].stem( range(1,55), pd.DataFrame(lambda1_params).mean() )\n",
    "axis[1].set_title(\"Mean Lambda for Y=1\");"
   ]
  },
  {
   "cell_type": "code",
   "execution_count": null,
   "id": "71d871c0",
   "metadata": {},
   "outputs": [],
   "source": []
  }
 ],
 "metadata": {
  "kernelspec": {
   "display_name": "Python 3 (ipykernel)",
   "language": "python",
   "name": "python3"
  },
  "language_info": {
   "codemirror_mode": {
    "name": "ipython",
    "version": 3
   },
   "file_extension": ".py",
   "mimetype": "text/x-python",
   "name": "python",
   "nbconvert_exporter": "python",
   "pygments_lexer": "ipython3",
   "version": "3.9.12"
  }
 },
 "nbformat": 4,
 "nbformat_minor": 5
}
