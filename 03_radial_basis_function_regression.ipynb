{
 "cells": [
  {
   "cell_type": "code",
   "execution_count": 108,
   "id": "d9be6ff5",
   "metadata": {},
   "outputs": [],
   "source": [
    "import numpy as np\n",
    "import pandas as pd\n",
    "import matplotlib.pyplot as plt"
   ]
  },
  {
   "cell_type": "code",
   "execution_count": 2,
   "id": "7ebe51fb",
   "metadata": {},
   "outputs": [],
   "source": [
    "X_train_raw = pd.read_csv(r'S:\\Columbia MS DS\\Courses\\Semester_02\\03 - COMS_4721 - ML for DS\\HW 2\\hw2-data\\Gaussian_process\\X_train.csv'\n",
    "                          ,header=None\n",
    "                          ,names=['cylinders','displacement','horsepower','weight','acceleration','year made','intercept']\n",
    "                        )\n",
    "X_test_raw = pd.read_csv(r'S:\\Columbia MS DS\\Courses\\Semester_02\\03 - COMS_4721 - ML for DS\\HW 2\\hw2-data\\Gaussian_process\\X_test.csv'\n",
    "                          ,header=None\n",
    "                          ,names=['cylinders','displacement','horsepower','weight','acceleration','year made','intercept'])\n",
    "y_train_raw = pd.read_csv(r'S:\\Columbia MS DS\\Courses\\Semester_02\\03 - COMS_4721 - ML for DS\\HW 2\\hw2-data\\Gaussian_process\\y_train.csv'\n",
    "                          , header=None, names=['mpg'])\n",
    "y_test_raw = pd.read_csv(r'S:\\Columbia MS DS\\Courses\\Semester_02\\03 - COMS_4721 - ML for DS\\HW 2\\hw2-data\\Gaussian_process\\y_test.csv'\n",
    "                          , header=None, names=['mpg'])"
   ]
  },
  {
   "cell_type": "code",
   "execution_count": 160,
   "id": "f093a3e2",
   "metadata": {},
   "outputs": [],
   "source": [
    "b_list = [5, 7, 9, 11, 13, 15]\n",
    "sigma_sq_list = [.1, .2, .3, .4, .5, .6, .7, .8, .9, 1]\n",
    "#b_list = [5]\n",
    "#sigma_list = [.1]"
   ]
  },
  {
   "cell_type": "code",
   "execution_count": 161,
   "id": "066bff9c",
   "metadata": {},
   "outputs": [],
   "source": [
    "def kernal_func(row1, row2, b=5):\n",
    "    cols = len(row1)\n",
    "    total = 0\n",
    "    l1 = 0\n",
    "    for i in range(0,cols):\n",
    "        l1 += abs(row1[i] - row2[i])\n",
    "    l1_sq = l1**2\n",
    "    total = np.exp( (-1/b)*l1_sq)\n",
    "    return total"
   ]
  },
  {
   "cell_type": "code",
   "execution_count": 162,
   "id": "bbac2c56",
   "metadata": {},
   "outputs": [
    {
     "name": "stdout",
     "output_type": "stream",
     "text": [
      "CPU times: total: 16min 55s\n",
      "Wall time: 13min 33s\n"
     ]
    }
   ],
   "source": [
    "%%time\n",
    "ans_full_array = [] #b, sigma_sq, yi, SE\n",
    "ans_array = [] #summary should have b, sigma_sq, RMSE\n",
    "y_mat = y_train_raw.to_numpy()\n",
    "\n",
    "#RMSE calc\n",
    "for beta in b_list:\n",
    "    \n",
    "    #build Kn\n",
    "    n = X_train_raw.shape[0]\n",
    "    kernalij = np.array([[0.0] * n] * n)\n",
    "    for i in range(0,n):\n",
    "        for j in range(0,n):\n",
    "            x1 = X_train_raw.iloc[i].to_numpy()\n",
    "            x2 = X_train_raw.iloc[j].to_numpy()\n",
    "            kernalij[i][j] = kernal_func(x1,x2, beta)\n",
    "\n",
    "    for sigma_sq in sigma_sq_list:\n",
    "        \n",
    "        #predict\n",
    "        SE_array = []\n",
    "        for t in range(0,X_test_raw.shape[0]):\n",
    "            kernalxDn = np.array([0.0] * n)\n",
    "            trueval = y_test_raw.iloc[t].item()\n",
    "            #build KxDn\n",
    "            x0 = X_test_raw.iloc[t].to_numpy()\n",
    "            for i in range(0,n):\n",
    "                xn = X_train_raw.iloc[i].to_numpy()\n",
    "                kernalxDn[i] = kernal_func(x0,xn)\n",
    "            #predict\n",
    "            kinv = np.linalg.inv(kernalij + sigma_sq*np.identity(n))\n",
    "            meanval = np.dot( np.dot(kernalxDn, kinv), y_mat).item()\n",
    "            SE = ((meanval - trueval)**2)\n",
    "            SE_array.append(SE)\n",
    "            ans_full_array.append([beta, sigma_sq, t, SE])\n",
    "        \n",
    "        RMSE = np.array(SE_array).mean() ** (1/2)\n",
    "        ans_array.append([beta, sigma_sq, RMSE])"
   ]
  },
  {
   "cell_type": "code",
   "execution_count": 164,
   "id": "2395de72",
   "metadata": {},
   "outputs": [],
   "source": [
    "ans_full_array\n",
    "#pd.DataFrame(ans_array, columns=['b','sigma_sq','RMSE'])\n",
    "pd.DataFrame(ans_array, columns=['b','sigma_sq','RMSE']).sort_values(by=['RMSE']).to_clipboard()"
   ]
  },
  {
   "cell_type": "code",
   "execution_count": null,
   "id": "9988e1b8",
   "metadata": {},
   "outputs": [],
   "source": []
  },
  {
   "cell_type": "markdown",
   "id": "55ecaf2e",
   "metadata": {},
   "source": [
    "## Weight only"
   ]
  },
  {
   "cell_type": "code",
   "execution_count": 121,
   "id": "71aecedf",
   "metadata": {},
   "outputs": [],
   "source": [
    "X_train_weight = X_train_raw.loc[:,'weight']"
   ]
  },
  {
   "cell_type": "code",
   "execution_count": 130,
   "id": "bb454627",
   "metadata": {},
   "outputs": [
    {
     "name": "stdout",
     "output_type": "stream",
     "text": [
      "CPU times: total: 1min 23s\n",
      "Wall time: 42.5 s\n"
     ]
    }
   ],
   "source": [
    "%%time\n",
    "ans_3b_predict = [] #i, x, truey, meany\n",
    "y_mat = y_train_raw.to_numpy()\n",
    "beta = 5\n",
    "sigma_sq = 2\n",
    "\n",
    "#build Kn\n",
    "n = len(X_train_weight)\n",
    "kernalij = np.array([[0.0] * n] * n)\n",
    "for i in range(0,n):\n",
    "    for j in range(0,n):\n",
    "        x1 = [X_train_weight[i]]\n",
    "        x2 = [X_train_weight[j]]\n",
    "        kernalij[i][j] = kernal_func(x1,x2, beta)\n",
    "\n",
    "#predict\n",
    "for t in range(0,n):\n",
    "    kernalxDn = np.array([0.0] * n)\n",
    "    trueval = y_train_raw.iloc[t].item()\n",
    "    #build KxDn\n",
    "    x0 = [X_train_weight[t]]\n",
    "    for i in range(0,n):\n",
    "        xn = [X_train_weight[i]]\n",
    "        kernalxDn[i] = kernal_func(x0,xn)\n",
    "    #predict\n",
    "    kinv = np.linalg.inv(kernalij + sigma_sq*np.identity(n))\n",
    "    meanval = np.dot( np.dot(kernalxDn, kinv), y_mat).item()\n",
    "    ans_3b_predict.append([t, x0[0], trueval, meanval])"
   ]
  },
  {
   "cell_type": "code",
   "execution_count": 131,
   "id": "11d40a40",
   "metadata": {},
   "outputs": [
    {
     "data": {
      "text/plain": [
       "[[0, -0.20083, -3.4458, 0.6405899246283412],\n",
       " [1, -0.038361, -5.4459, -0.6933370649759399],\n",
       " [2, -1.2251, 5.5541, 8.529680196328549],\n",
       " [3, -0.56226, 11.554, 3.667161722777422],\n",
       " [4, -1.251, 12.254, 8.680517874457136]]"
      ]
     },
     "execution_count": 131,
     "metadata": {},
     "output_type": "execute_result"
    }
   ],
   "source": [
    "ans_3b_predict[0:5]"
   ]
  },
  {
   "cell_type": "code",
   "execution_count": 154,
   "id": "3dfec0bc",
   "metadata": {},
   "outputs": [
    {
     "data": {
      "text/html": [
       "<div>\n",
       "<style scoped>\n",
       "    .dataframe tbody tr th:only-of-type {\n",
       "        vertical-align: middle;\n",
       "    }\n",
       "\n",
       "    .dataframe tbody tr th {\n",
       "        vertical-align: top;\n",
       "    }\n",
       "\n",
       "    .dataframe thead th {\n",
       "        text-align: right;\n",
       "    }\n",
       "</style>\n",
       "<table border=\"1\" class=\"dataframe\">\n",
       "  <thead>\n",
       "    <tr style=\"text-align: right;\">\n",
       "      <th></th>\n",
       "      <th>x</th>\n",
       "      <th>meanval</th>\n",
       "    </tr>\n",
       "  </thead>\n",
       "  <tbody>\n",
       "    <tr>\n",
       "      <th>0</th>\n",
       "      <td>-0.200830</td>\n",
       "      <td>0.640590</td>\n",
       "    </tr>\n",
       "    <tr>\n",
       "      <th>1</th>\n",
       "      <td>-0.038361</td>\n",
       "      <td>-0.693337</td>\n",
       "    </tr>\n",
       "    <tr>\n",
       "      <th>2</th>\n",
       "      <td>-1.225100</td>\n",
       "      <td>8.529680</td>\n",
       "    </tr>\n",
       "    <tr>\n",
       "      <th>3</th>\n",
       "      <td>-0.562260</td>\n",
       "      <td>3.667162</td>\n",
       "    </tr>\n",
       "    <tr>\n",
       "      <th>4</th>\n",
       "      <td>-1.251000</td>\n",
       "      <td>8.680518</td>\n",
       "    </tr>\n",
       "  </tbody>\n",
       "</table>\n",
       "</div>"
      ],
      "text/plain": [
       "          x   meanval\n",
       "0 -0.200830  0.640590\n",
       "1 -0.038361 -0.693337\n",
       "2 -1.225100  8.529680\n",
       "3 -0.562260  3.667162\n",
       "4 -1.251000  8.680518"
      ]
     },
     "execution_count": 154,
     "metadata": {},
     "output_type": "execute_result"
    }
   ],
   "source": [
    "threeb_line = pd.DataFrame(ans_3b_predict,columns=['t','x','trueval','meanval']).loc[:,['x','meanval']]\n",
    "threeb_line.iloc[0:5]"
   ]
  },
  {
   "cell_type": "code",
   "execution_count": 158,
   "id": "5dddb0ec",
   "metadata": {},
   "outputs": [
    {
     "data": {
      "image/png": "[encoded data removed]",
      "text/plain": [
       "<Figure size 864x432 with 1 Axes>"
      ]
     },
     "metadata": {
      "needs_background": "light"
     },
     "output_type": "display_data"
    }
   ],
   "source": [
    "figure, axis = plt.subplots(1, 1, figsize=(12,6))\n",
    "axis.set_xlabel(\"Weight (Training)\")\n",
    "axis.set_ylabel(\"MPG (Training)\")\n",
    "axis.set_title('Problem 3c')\n",
    "plt.scatter(X_train_weight, y_train_raw)\n",
    "plt.plot('x','meanval', data=threeb_line.sort_values(by=['x']), color='red');"
   ]
  },
  {
   "cell_type": "code",
   "execution_count": null,
   "id": "232fe3c9",
   "metadata": {},
   "outputs": [],
   "source": []
  }
 ],
 "metadata": {
  "kernelspec": {
   "display_name": "Python 3 (ipykernel)",
   "language": "python",
   "name": "python3"
  },
  "language_info": {
   "codemirror_mode": {
    "name": "ipython",
    "version": 3
   },
   "file_extension": ".py",
   "mimetype": "text/x-python",
   "name": "python",
   "nbconvert_exporter": "python",
   "pygments_lexer": "ipython3",
   "version": "3.9.12"
  }
 },
 "nbformat": 4,
 "nbformat_minor": 5
}
